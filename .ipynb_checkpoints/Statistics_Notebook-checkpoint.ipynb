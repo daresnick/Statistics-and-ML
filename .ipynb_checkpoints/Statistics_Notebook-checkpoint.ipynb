{
 "cells": [
  {
   "cell_type": "markdown",
   "metadata": {},
   "source": [
    "### Statistical Code Library\n",
    "\n",
    "- Import Python Packages"
   ]
  },
  {
   "cell_type": "code",
   "execution_count": 91,
   "metadata": {
    "collapsed": true
   },
   "outputs": [],
   "source": [
    "import numpy as np\n",
    "import pandas as pd\n",
    "import random\n",
    "import matplotlib.pyplot as plt\n",
    "%matplotlib inline\n",
    "plt.style.use('ggplot')"
   ]
  },
  {
   "cell_type": "markdown",
   "metadata": {},
   "source": [
    "### Permutation Test"
   ]
  },
  {
   "cell_type": "code",
   "execution_count": 130,
   "metadata": {},
   "outputs": [],
   "source": [
    "class Permutation_Test(object):\n",
    "    \n",
    "    \"\"\" Computing Permutation Test -- i.e. Exact Randomization Test\"\"\"\n",
    "    \n",
    "    def __init__(self,fname):\n",
    "        \n",
    "        self.data = pd.read_csv('data/{}.csv'.format(fname))\n",
    "        self.trials = 1000\n",
    "        \n",
    "        #Get Global and Sampled Means\n",
    "        self.global_mean,self.sample_means = self.get_permutations()\n",
    "    \n",
    "    def get_permutations(self):\n",
    "\n",
    "        #Get Observed Mean\n",
    "        global_mean = self.data.groupby(['Treatment'])['Score'].mean().diff().iloc[1]\n",
    "\n",
    "        means = []\n",
    "        for i in range(0,self.trials):\n",
    "            means.append(self.data.apply(np.random.permutation).groupby(['Treatment'])['Score']\\\n",
    "                         .mean().diff().iloc[1])\n",
    "\n",
    "        #Get P-Value\n",
    "        m = pd.DataFrame(means,columns=['Diff_Means'])\n",
    "        count = sum(np.where((m['Diff_Means'] > global_mean) | (m['Diff_Means'] < -global_mean),1,0))\n",
    "\n",
    "        print('Probability of observing a distribution more extreme than {} is {}/{}!'\\\n",
    "              .format(round(global_mean,3),count,self.trials))\n",
    "\n",
    "        if count/self.trials < 0.05:\n",
    "            print(\"\"\"Strong evidence to suggest mu1 and mu1 are not drawn from the same distribution\\\n",
    "               Conclusion: Reject null hypothesis that mu1 == mu2\"\"\")\n",
    "        else:\n",
    "            print('Fail to reject the null hypothesis and conclude that there \\\n",
    "                 is a significant difference')\n",
    "            \n",
    "        return(global_mean,m)\n",
    "    \n",
    "    def histogram(self):\n",
    "        \n",
    "        \"Return Histogram of Permutations\"\n",
    "        \n",
    "        fig = plt.figure(figsize=(8,4))\n",
    "        ax = fig.add_subplot(111)\n",
    "        ax.vlines(x=self.global_mean,ymin=0,ymax=300,lw=2.0,color='b')\n",
    "        ax.vlines(x=-self.global_mean,ymin=0,ymax=300,lw=2.0,color='b')\n",
    "        self.sample_means.hist(ax=ax,alpha=0.70)\n",
    "        ax.set_ylabel('Count',fontsize=14)\n",
    "        ax.set_xlabel('Sampled Means',fontsize=14)\n",
    "        plt.title('Permutations Test',fontsize=18,y=1.02)\n",
    "        plt.show()"
   ]
  },
  {
   "cell_type": "code",
   "execution_count": 131,
   "metadata": {},
   "outputs": [
    {
     "name": "stdout",
     "output_type": "stream",
     "text": [
      "Probability of observing a distribution more extreme than 4.144 is 3/1000!\n",
      "Strong evidence to suggest mu1 and mu1 are not drawn from the same distribution               Conclusion: Reject null hypothesis that mu1 == mu2\n"
     ]
    },
    {
     "data": {
      "image/png": "[encoded data removed]",
      "text/plain": [
       "<matplotlib.figure.Figure at 0x10fe3d2b0>"
      ]
     },
     "metadata": {},
     "output_type": "display_data"
    }
   ],
   "source": [
    "if __name__ == '__main__':\n",
    "    file = 'case0101'\n",
    "    results = Permutation_Test(file)\n",
    "    results.histogram()"
   ]
  },
  {
   "cell_type": "markdown",
   "metadata": {},
   "source": [
    "### Central Limit Theorem"
   ]
  },
  {
   "cell_type": "code",
   "execution_count": 38,
   "metadata": {
    "collapsed": true
   },
   "outputs": [],
   "source": [
    "class central_limit_theorem(object):\n",
    "    \n",
    "    def __init__(self,data_size):\n",
    "    \n",
    "        self.x = np.random.randint(0,100,data_size)\n",
    "    \n",
    "    def random_sample_means(self,sample_size):\n",
    "        \n",
    "        means = [np.random.choice(self.x,100).mean() for i in range(0,sample_size)]\n",
    "        plt.title('Central Limit Theorem')\n",
    "        plt.hist(means,color='b',alpha=0.6,bins=10)\n",
    "        plt.xlabel('Mean')\n",
    "        plt.ylabel('Count')"
   ]
  },
  {
   "cell_type": "code",
   "execution_count": 43,
   "metadata": {},
   "outputs": [
    {
     "data": {
      "image/png": "[encoded data removed]",
      "text/plain": [
       "<matplotlib.figure.Figure at 0x108eddc18>"
      ]
     },
     "metadata": {},
     "output_type": "display_data"
    }
   ],
   "source": [
    "test = central_limit_theorem(100)\n",
    "test.random_sample_means(200)"
   ]
  },
  {
   "cell_type": "markdown",
   "metadata": {},
   "source": [
    "### One Sample T-Test"
   ]
  },
  {
   "cell_type": "code",
   "execution_count": 133,
   "metadata": {
    "collapsed": true
   },
   "outputs": [],
   "source": [
    "from scipy.stats import ttest_1samp\n",
    "class One_Sample_TTest(object):\n",
    "    \n",
    "    #Set Static Elements:\n",
    "    None\n",
    "    \n",
    "    def __init__(self,input,mu):\n",
    "        \n",
    "        #Set Object Elements\n",
    "        self.data = input\n",
    "        self.test_mean = mu\n",
    "        self.significance = 0.05\n",
    "        \n",
    "    def results(self):\n",
    "        print('** One-Sample TTest **')\n",
    "        ttest = ttest_1samp(self.data,self.test_mean)\n",
    "\n",
    "        \n",
    "        print('Test Statistic: {0:.4f}'.format(ttest[0]))\n",
    "        print('P-Value: {0:.4f}'.format(ttest[1]))\n",
    "        print('Level of Significance: {}'.format(self.significance))\n",
    "        if ttest[1] < self.significance:\n",
    "            print('Reject Null Hypothesis')\n",
    "        else:\n",
    "            print('Fail to Reject Null Hypothesis')      "
   ]
  },
  {
   "cell_type": "code",
   "execution_count": 134,
   "metadata": {},
   "outputs": [
    {
     "name": "stdout",
     "output_type": "stream",
     "text": [
      "** One-Sample TTest **\n",
      "Test Statistic: -1.2972\n",
      "P-Value: 0.2155\n",
      "Level of Significance: 0.1\n",
      "Fail to Reject Null Hypothesis\n"
     ]
    }
   ],
   "source": [
    "data = [1.7, 1.6, 1.5, 2.0, 2.3, 1.6, 1.6, 1.8, 1.5, 1.7, 2.2, 1.4, 1.6, 1.6, 1.6]\n",
    "one_samp = One_Sample_TTest(data,1.8)\n",
    "one_samp.significance = 0.10\n",
    "one_samp.results()"
   ]
  }
 ],
 "metadata": {
  "anaconda-cloud": {},
  "kernelspec": {
   "display_name": "Python [conda root]",
   "language": "python",
   "name": "conda-root-py"
  },
  "language_info": {
   "codemirror_mode": {
    "name": "ipython",
    "version": 3
   },
   "file_extension": ".py",
   "mimetype": "text/x-python",
   "name": "python",
   "nbconvert_exporter": "python",
   "pygments_lexer": "ipython3",
   "version": "3.5.2"
  }
 },
 "nbformat": 4,
 "nbformat_minor": 1
}
